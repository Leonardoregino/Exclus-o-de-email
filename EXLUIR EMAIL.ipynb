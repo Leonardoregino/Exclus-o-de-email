{
 "cells": [
  {
   "cell_type": "code",
   "execution_count": null,
   "id": "13486b4b",
   "metadata": {},
   "outputs": [],
   "source": []
  },
  {
   "cell_type": "code",
   "execution_count": 38,
   "id": "418e58e0",
   "metadata": {},
   "outputs": [
    {
     "ename": "KeyboardInterrupt",
     "evalue": "",
     "output_type": "error",
     "traceback": [
      "\u001b[1;31m---------------------------------------------------------------------------\u001b[0m",
      "\u001b[1;31mKeyboardInterrupt\u001b[0m                         Traceback (most recent call last)",
      "Cell \u001b[1;32mIn[38], line 18\u001b[0m\n\u001b[0;32m     16\u001b[0m time\u001b[38;5;241m.\u001b[39msleep(\u001b[38;5;241m2\u001b[39m)\n\u001b[0;32m     17\u001b[0m pyautogui\u001b[38;5;241m.\u001b[39mclick(x\u001b[38;5;241m=\u001b[39m\u001b[38;5;241m701\u001b[39m, y\u001b[38;5;241m=\u001b[39m\u001b[38;5;241m185\u001b[39m)\n\u001b[1;32m---> 18\u001b[0m \u001b[43mtime\u001b[49m\u001b[38;5;241;43m.\u001b[39;49m\u001b[43msleep\u001b[49m\u001b[43m(\u001b[49m\u001b[38;5;241;43m5\u001b[39;49m\u001b[43m)\u001b[49m\n",
      "\u001b[1;31mKeyboardInterrupt\u001b[0m: "
     ]
    }
   ],
   "source": [
    "import pyautogui, time\n",
    "time.sleep(2)\n",
    "pyautogui.hotkey('ctrl' , 't')\n",
    "pyautogui.click(x=940, y=83)\n",
    "time.sleep(1)\n",
    "pyautogui.write(\"https://mail.google.com/mail/u/0/#inbox\")\n",
    "time.sleep(1)\n",
    "pyautogui.press(\"enter\")\n",
    "time.sleep(10)\n",
    "pyautogui.click(x=138, y=347)  # CLICA EM MAIS \n",
    "time.sleep(4)\n",
    "pyautogui.click(x=141, y=532) # CLICA NA  CATEGORIA DEFINIDA\n",
    "time.sleep(4)\n",
    "while True:\n",
    "    pyautogui.click(x=323, y=183)\n",
    "    time.sleep(2)\n",
    "    pyautogui.click(x=701, y=185)\n",
    "    time.sleep(5)\n",
    "\n",
    "    #time.sleep(6)   \n",
    "    #break"
   ]
  },
  {
   "cell_type": "code",
   "execution_count": 37,
   "id": "502fafc2",
   "metadata": {},
   "outputs": [
    {
     "data": {
      "text/plain": [
       "Point(x=701, y=185)"
      ]
     },
     "execution_count": 37,
     "metadata": {},
     "output_type": "execute_result"
    }
   ],
   "source": [
    "time.sleep(6)\n",
    "pyautogui.position()"
   ]
  },
  {
   "cell_type": "code",
   "execution_count": null,
   "id": "0e33f739",
   "metadata": {},
   "outputs": [],
   "source": []
  },
  {
   "cell_type": "code",
   "execution_count": null,
   "id": "5690ad20",
   "metadata": {},
   "outputs": [],
   "source": []
  }
 ],
 "metadata": {
  "kernelspec": {
   "display_name": "Python 3 (ipykernel)",
   "language": "python",
   "name": "python3"
  },
  "language_info": {
   "codemirror_mode": {
    "name": "ipython",
    "version": 3
   },
   "file_extension": ".py",
   "mimetype": "text/x-python",
   "name": "python",
   "nbconvert_exporter": "python",
   "pygments_lexer": "ipython3",
   "version": "3.10.9"
  }
 },
 "nbformat": 4,
 "nbformat_minor": 5
}
